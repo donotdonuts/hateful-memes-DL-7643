{
 "cells": [
  {
   "cell_type": "code",
   "execution_count": 27,
   "metadata": {},
   "outputs": [],
   "source": [
    "import os\n",
    "import math\n",
    "import numpy as np\n",
    "import pandas as pd"
   ]
  },
  {
   "cell_type": "code",
   "execution_count": 14,
   "metadata": {},
   "outputs": [],
   "source": [
    "train_path = \"../data/propaganda-techniques-in-memes/data/datasets/propaganda/defaults/annotations/train.jsonl\"\n",
    "df = pd.read_json(train_path, lines=True)"
   ]
  },
  {
   "cell_type": "code",
   "execution_count": 15,
   "metadata": {},
   "outputs": [
    {
     "data": {
      "text/html": [
       "<div>\n",
       "<style scoped>\n",
       "    .dataframe tbody tr th:only-of-type {\n",
       "        vertical-align: middle;\n",
       "    }\n",
       "\n",
       "    .dataframe tbody tr th {\n",
       "        vertical-align: top;\n",
       "    }\n",
       "\n",
       "    .dataframe thead th {\n",
       "        text-align: right;\n",
       "    }\n",
       "</style>\n",
       "<table border=\"1\" class=\"dataframe\">\n",
       "  <thead>\n",
       "    <tr style=\"text-align: right;\">\n",
       "      <th></th>\n",
       "      <th>id</th>\n",
       "      <th>labels</th>\n",
       "      <th>text</th>\n",
       "      <th>image</th>\n",
       "    </tr>\n",
       "  </thead>\n",
       "  <tbody>\n",
       "    <tr>\n",
       "      <th>0</th>\n",
       "      <td>128</td>\n",
       "      <td>[Black-and-white Fallacy/Dictatorship, Name ca...</td>\n",
       "      <td>THERE ARE ONLY TWO GENDERS\\n\\nFEMALE \\n\\nMALE\\n</td>\n",
       "      <td>128_image.png</td>\n",
       "    </tr>\n",
       "    <tr>\n",
       "      <th>1</th>\n",
       "      <td>189</td>\n",
       "      <td>[Reductio ad hitlerum, Smears, Transfer]</td>\n",
       "      <td>This is not an accident!</td>\n",
       "      <td>189_image.png</td>\n",
       "    </tr>\n",
       "    <tr>\n",
       "      <th>2</th>\n",
       "      <td>96</td>\n",
       "      <td>[Appeal to fear/prejudice, Loaded Language, Na...</td>\n",
       "      <td>SO BERNIE BROS HAVEN'T COMMITTED VIOLENCE EH?\\...</td>\n",
       "      <td>96_image.png</td>\n",
       "    </tr>\n",
       "    <tr>\n",
       "      <th>3</th>\n",
       "      <td>154</td>\n",
       "      <td>[Causal Oversimplification, Glittering general...</td>\n",
       "      <td>PATHETIC\\n\\nThe Cowardly Asshole\\nWeak Failure...</td>\n",
       "      <td>154_image.png</td>\n",
       "    </tr>\n",
       "    <tr>\n",
       "      <th>4</th>\n",
       "      <td>15</td>\n",
       "      <td>[Flag-waving, Misrepresentation of Someone's P...</td>\n",
       "      <td>WHO TRUMP REPRESENTS\\n\\nWHO DEMOCRATS REPRESENT\\n</td>\n",
       "      <td>15_image.png</td>\n",
       "    </tr>\n",
       "  </tbody>\n",
       "</table>\n",
       "</div>"
      ],
      "text/plain": [
       "    id                                             labels  \\\n",
       "0  128  [Black-and-white Fallacy/Dictatorship, Name ca...   \n",
       "1  189           [Reductio ad hitlerum, Smears, Transfer]   \n",
       "2   96  [Appeal to fear/prejudice, Loaded Language, Na...   \n",
       "3  154  [Causal Oversimplification, Glittering general...   \n",
       "4   15  [Flag-waving, Misrepresentation of Someone's P...   \n",
       "\n",
       "                                                text          image  \n",
       "0    THERE ARE ONLY TWO GENDERS\\n\\nFEMALE \\n\\nMALE\\n  128_image.png  \n",
       "1                           This is not an accident!  189_image.png  \n",
       "2  SO BERNIE BROS HAVEN'T COMMITTED VIOLENCE EH?\\...   96_image.png  \n",
       "3  PATHETIC\\n\\nThe Cowardly Asshole\\nWeak Failure...  154_image.png  \n",
       "4  WHO TRUMP REPRESENTS\\n\\nWHO DEMOCRATS REPRESENT\\n   15_image.png  "
      ]
     },
     "execution_count": 15,
     "metadata": {},
     "output_type": "execute_result"
    }
   ],
   "source": [
    "df.head()"
   ]
  },
  {
   "cell_type": "code",
   "execution_count": 16,
   "metadata": {},
   "outputs": [
    {
     "data": {
      "text/plain": [
       "0              there are only two genders  female   male\n",
       "1                               this is not an accident!\n",
       "2      so bernie bros haven't committed violence eh? ...\n",
       "3      pathetic  the cowardly asshole weak failure!!!...\n",
       "4          who trump represents  who democrats represent\n",
       "                             ...                        \n",
       "682    how to kill the coronovirus... hey hillary, i ...\n",
       "683    look, when i'm in the waffle house, i'm going ...\n",
       "684                    i support mlb  it's blm you idiot\n",
       "685    pelosi endorses biden \"he is a leader who is t...\n",
       "686    if you trust someone who has  500,000 shares w...\n",
       "Name: text, Length: 687, dtype: object"
      ]
     },
     "execution_count": 16,
     "metadata": {},
     "output_type": "execute_result"
    }
   ],
   "source": [
    "df['text'].str.replace(\"\\n\", \" \").str.strip().str.lower()"
   ]
  },
  {
   "cell_type": "code",
   "execution_count": 30,
   "metadata": {},
   "outputs": [
    {
     "name": "stdout",
     "output_type": "stream",
     "text": [
      "['Black-and-white Fallacy/Dictatorship', 'Name calling/Labeling', 'Smears', 'Reductio ad hitlerum', 'Transfer', 'Appeal to fear/prejudice', 'Loaded Language', 'Slogans', 'Causal Oversimplification', 'Glittering generalities (Virtue)', 'Flag-waving', \"Misrepresentation of Someone's Position (Straw Man)\", 'Exaggeration/Minimisation', 'Repetition', 'Appeal to (Strong) Emotions', 'Doubt', 'Obfuscation, Intentional vagueness, Confusion', 'Whataboutism', 'Thought-terminating cliché', 'Presenting Irrelevant Data (Red Herring)', 'Appeal to authority', 'Bandwagon']\n",
      "22\n"
     ]
    }
   ],
   "source": [
    "labels = [l for l in df['labels'].explode().unique() if isinstance(l, str)]\n",
    "print(labels)\n",
    "print(len(labels))"
   ]
  },
  {
   "cell_type": "code",
   "execution_count": 28,
   "metadata": {},
   "outputs": [
    {
     "data": {
      "text/plain": [
       "True"
      ]
     },
     "execution_count": 28,
     "metadata": {},
     "output_type": "execute_result"
    }
   ],
   "source": [
    "math.isnan(labels[-1])"
   ]
  },
  {
   "cell_type": "code",
   "execution_count": null,
   "metadata": {},
   "outputs": [],
   "source": []
  }
 ],
 "metadata": {
  "interpreter": {
   "hash": "8a4780f05439d58725c34d54dabcf81b479acea6bbe3ca7dbad3fc1d64d9f906"
  },
  "kernelspec": {
   "display_name": "Python 3.9.7 ('base')",
   "language": "python",
   "name": "python3"
  },
  "language_info": {
   "codemirror_mode": {
    "name": "ipython",
    "version": 3
   },
   "file_extension": ".py",
   "mimetype": "text/x-python",
   "name": "python",
   "nbconvert_exporter": "python",
   "pygments_lexer": "ipython3",
   "version": "3.9.7"
  },
  "orig_nbformat": 4
 },
 "nbformat": 4,
 "nbformat_minor": 2
}
